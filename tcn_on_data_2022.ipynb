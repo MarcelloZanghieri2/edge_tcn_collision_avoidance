{
 "cells": [
  {
   "cell_type": "code",
   "execution_count": 1,
   "id": "distinct-efficiency",
   "metadata": {},
   "outputs": [],
   "source": [
    "from __future__ import annotations\n",
    "from pathlib import Path\n",
    "import pickle\n",
    "\n",
    "from ultras import splitting as split\n",
    "from ultras import augmentation as augm\n",
    "from ultras import models as mdl\n",
    "from ultras.learning import settings\n",
    "from ultras.learning import learning as learn\n",
    "from ultras.learning import quantization as quant"
   ]
  },
  {
   "cell_type": "code",
   "execution_count": 2,
   "id": "f8a7412c",
   "metadata": {},
   "outputs": [],
   "source": [
    "# Set settings for reproducibility\n",
    "augm.set_numpy_random_seed_for_augm()\n",
    "settings.set_reproducibility()\n",
    "settings.set_visible_device()"
   ]
  },
  {
   "cell_type": "code",
   "execution_count": 3,
   "id": "integral-loading",
   "metadata": {},
   "outputs": [],
   "source": [
    "# Experiment Settings\n",
    "\n",
    "CURRENT_EXPERIMENT = split.Experiment.EXPERIMENT_3\n",
    "\n",
    "RESULTS_FILENAME = 'results_experiment_%d.pkl' % CURRENT_EXPERIMENT.value\n",
    "MODEL_FILENAME = 'model_experiment_%d.onnx' % CURRENT_EXPERIMENT.value\n",
    "RESULTS_DIR_PATH = './results/'\n",
    "RESULTS_FILE_FULLPATH = RESULTS_DIR_PATH + RESULTS_FILENAME\n",
    "MODEL_FILE_FULLPATH = RESULTS_DIR_PATH + MODEL_FILENAME\n",
    "\n",
    "NUM_REPETITIONS = 64"
   ]
  },
  {
   "cell_type": "code",
   "execution_count": 4,
   "id": "290dc361",
   "metadata": {},
   "outputs": [],
   "source": [
    "# Composition of training and validation set\n",
    "# \"orig\" stands for non-augmented\n",
    "(xtrain_orig, ytrain_orig), (xvalid, yvalid) = \\\n",
    "    split.compose_train_and_valid_sets(experiment=CURRENT_EXPERIMENT)"
   ]
  },
  {
   "cell_type": "code",
   "execution_count": 5,
   "id": "nonprofit-violation",
   "metadata": {},
   "outputs": [],
   "source": [
    "# Structure of dictionary for storing results\n",
    "\n",
    "results = {\n",
    "    'EXPERIMENT': CURRENT_EXPERIMENT,\n",
    "    'NUM_REPETITIONS': NUM_REPETITIONS,\n",
    "    'ytrain_orig': ytrain_orig,  # not augmented\n",
    "    'yvalid': yvalid,\n",
    "    'repetition': {},  # all results\n",
    "}"
   ]
  },
  {
   "cell_type": "code",
   "execution_count": 6,
   "id": "modern-frontier",
   "metadata": {
    "scrolled": false
   },
   "outputs": [
    {
     "name": "stdout",
     "output_type": "stream",
     "text": [
      "\n",
      "\n",
      "------------------------------------------------------------------\n",
      "REPETITION 1/30\n",
      "------------------------------------------------------------------\n",
      "\n",
      "\n",
      "\n",
      "--------------------------------\n",
      "AUGMENTATION REPORT\n",
      "\n",
      "SETTINGS\n",
      "Original examples:\t3885\n",
      "Augmentation factor:\t8\n",
      "Rescale?\t\tTrue\n",
      "Shift?\t\t\tTrue\n",
      "\n",
      "OUTCOME\n",
      "New examples:\t\t31080\n",
      "Total output examples:\t31080\n",
      "Time for replicas (s):\t0.2\n",
      "Time for rescale (s):\t5.2\n",
      "Time for shift (s):\t0.5\n",
      "Time total (s):\t\t5.9\n",
      "--------------------------------\n",
      "\n",
      "\n",
      "\n",
      "EPOCH\t\tL_tr\tSens_tr\tSpec_tr\tAb_tr\tAUROC_tr\t\tL_va\tSens_va          \tSpec_va\tAb_va\tAUROC_va\t\tTime (s)\n",
      "\n",
      "1/2\t\t0.800\t0.622\t0.476\t0.549\t0.569\t\t\t0.810\t0.905\t0.204\t              0.554\t0.541\t\t\t8.1\n",
      "2/2\t\t0.749\t0.609\t0.768\t0.688\t0.747\t\t\t0.810\t0.845\t0.284\t              0.565\t0.510\t\t\t7.4\n",
      "\n",
      "EPOCH\t\tL_tr\tSens_tr\tSpec_tr\tAb_tr\tAUROC_tr\t\tL_va\tSens_va          \tSpec_va\tAb_va\tAUROC_va\t\tTime (s)\n",
      "\n",
      "1/16\t\t0.679\t0.704\t0.835\t0.769\t0.823\t\t\t0.780\t0.815\t0.384\t              0.599\t0.603\t\t\t34.3\n",
      "2/16\t\t0.415\t0.895\t0.831\t0.863\t0.931\t\t\t0.681\t0.700\t0.780\t              0.740\t0.778\t\t\t33.8\n",
      "3/16\t\t0.239\t0.905\t0.928\t0.917\t0.976\t\t\t0.564\t0.715\t0.864\t              0.789\t0.856\t\t\t33.9\n",
      "4/16\t\t0.206\t0.906\t0.948\t0.927\t0.981\t\t\t0.499\t0.850\t0.816\t              0.833\t0.884\t\t\t33.1\n",
      "5/16\t\t0.164\t0.936\t0.948\t0.942\t0.988\t\t\t0.422\t0.725\t0.964\t              0.845\t0.911\t\t\t33.2\n",
      "6/16\t\t0.156\t0.943\t0.957\t0.950\t0.989\t\t\t0.375\t0.820\t0.944\t              0.882\t0.928\t\t\t32.9\n",
      "7/16\t\t0.143\t0.946\t0.961\t0.953\t0.990\t\t\t0.358\t0.865\t0.880\t              0.873\t0.944\t\t\t33.1\n",
      "8/16\t\t0.139\t0.939\t0.971\t0.955\t0.991\t\t\t0.307\t0.820\t1.000\t              0.910\t0.959\t\t\t32.9\n",
      "9/16\t\t0.111\t0.960\t0.974\t0.967\t0.994\t\t\t0.288\t0.890\t0.940\t              0.915\t0.965\t\t\t32.9\n",
      "10/16\t\t0.104\t0.961\t0.977\t0.969\t0.994\t\t\t0.257\t0.930\t0.940\t              0.935\t0.973\t\t\t33.3\n",
      "11/16\t\t0.100\t0.959\t0.982\t0.971\t0.994\t\t\t0.233\t0.930\t0.956\t              0.943\t0.973\t\t\t34.4\n",
      "12/16\t\t0.098\t0.964\t0.981\t0.972\t0.995\t\t\t0.251\t0.915\t0.968\t              0.942\t0.974\t\t\t35.6\n",
      "13/16\t\t0.091\t0.970\t0.977\t0.973\t0.995\t\t\t0.227\t0.905\t0.976\t              0.941\t0.978\t\t\t34.4\n",
      "14/16\t\t0.098\t0.960\t0.984\t0.972\t0.994\t\t\t0.298\t0.855\t0.940\t              0.897\t0.959\t\t\t36.1\n",
      "15/16\t\t0.094\t0.962\t0.985\t0.973\t0.995\t\t\t0.288\t0.895\t0.932\t              0.913\t0.960\t\t\t35.1\n",
      "16/16\t\t0.076\t0.972\t0.988\t0.980\t0.996\t\t\t0.223\t0.890\t0.980\t              0.935\t0.979\t\t\t36.3\n"
     ]
    },
    {
     "name": "stderr",
     "output_type": "stream",
     "text": [
      "/home/zanghieri/miniconda3/envs/quantlib/lib/python3.8/site-packages/torch/fx/graph.py:606: UserWarning: Attempted to insert a call_module Node with no underlying reference in the owning GraphModule! Call GraphModule.add_submodule to add the necessary submodule\n",
      "  warnings.warn(\"Attempted to insert a call_module Node with \"\n"
     ]
    },
    {
     "name": "stdout",
     "output_type": "stream",
     "text": [
      "[FinalEpsTunnelRemover] output: removing EpsTunnel with scaling factor tensor([[8.0328791227657348e-05]])\n",
      "[FinalEpsTunnelRemover] output: outputs will need to be scaled *externally* to maintain program semantics.\n",
      "\n",
      "------------------------------------------------------------------\n",
      "INTERMEDIATE VALIDATION: INTEGER\n",
      "\n",
      "TRAINING SET\n",
      "{'pos_weight': 1.0, 'eps_clip_soft': 1e-07, 'balanced_bce': 0.0633887498147793, 'auroc': 0.9961260933440345, 'sensitivity': 0.9757668711656442, 'specificity': 0.9835365853658536, 'balanced_accuracy': 0.9796517282657489, 'threshold_maxba': 0.5610846, 'sensitivity_maxba': 0.9720092024539877, 'specificity_maxba': 0.9884146341463415, 'balanced_accuracy_maxba': 0.9802119183001645, 'recall': 0.9757668711656442, 'precision': 0.9771906919591429, 'f1_score': 0.9764782625378918}\n",
      "VALIDATION SET\n",
      "{'pos_weight': 1.0, 'eps_clip_soft': 1e-07, 'balanced_bce': 0.19532453818143242, 'auroc': 0.97932, 'sensitivity': 0.945, 'specificity': 0.904, 'balanced_accuracy': 0.9245, 'threshold_maxba': 0.7331565, 'sensitivity_maxba': 0.89, 'specificity_maxba': 0.98, 'balanced_accuracy_maxba': 0.935, 'recall': 0.945, 'precision': 0.8873239436619719, 'f1_score': 0.9152542372881356}\n",
      "------------------------------------------------------------------\n",
      "------------------------------------------------------------------\n",
      "------------------------------------------------------------------\n"
     ]
    },
    {
     "data": {
      "image/png": "[encoded data removed]",
      "text/plain": [
       "<Figure size 432x288 with 1 Axes>"
      ]
     },
     "metadata": {
      "needs_background": "light"
     },
     "output_type": "display_data"
    },
    {
     "data": {
      "image/png": "[encoded data removed]",
      "text/plain": [
       "<Figure size 432x288 with 1 Axes>"
      ]
     },
     "metadata": {
      "needs_background": "light"
     },
     "output_type": "display_data"
    },
    {
     "name": "stderr",
     "output_type": "stream",
     "text": [
      "/home/zanghieri/miniconda3/envs/quantlib/lib/python3.8/site-packages/quantlib/editing/graphs/nn/requant.py:71: TracerWarning: Converting a tensor to a Python float might cause the trace to be incorrect. We can't record the data flow of Python values, so this value will be treated as a constant in the future. This means that the trace might not generalize to other inputs!\n",
      "  lo = float(self.zero)\n",
      "/home/zanghieri/miniconda3/envs/quantlib/lib/python3.8/site-packages/quantlib/editing/graphs/nn/requant.py:72: TracerWarning: Converting a tensor to a Python float might cause the trace to be incorrect. We can't record the data flow of Python values, so this value will be treated as a constant in the future. This means that the trace might not generalize to other inputs!\n",
      "  hi = float(self.zero + self.n_levels - 1)\n"
     ]
    },
    {
     "name": "stdout",
     "output_type": "stream",
     "text": [
      "\n",
      "\n",
      "------------------------------------------------------------------\n",
      "REPETITION 2/30\n",
      "------------------------------------------------------------------\n",
      "\n",
      "\n",
      "\n",
      "--------------------------------\n",
      "AUGMENTATION REPORT\n",
      "\n",
      "SETTINGS\n",
      "Original examples:\t3885\n",
      "Augmentation factor:\t8\n",
      "Rescale?\t\tTrue\n",
      "Shift?\t\t\tTrue\n",
      "\n",
      "OUTCOME\n",
      "New examples:\t\t31080\n",
      "Total output examples:\t31080\n",
      "Time for replicas (s):\t0.2\n",
      "Time for rescale (s):\t5.2\n",
      "Time for shift (s):\t0.4\n",
      "Time total (s):\t\t5.8\n",
      "--------------------------------\n",
      "\n",
      "\n",
      "\n",
      "EPOCH\t\tL_tr\tSens_tr\tSpec_tr\tAb_tr\tAUROC_tr\t\tL_va\tSens_va          \tSpec_va\tAb_va\tAUROC_va\t\tTime (s)\n",
      "\n",
      "1/2\t\t0.764\t0.504\t0.781\t0.642\t0.691\t\t\t0.811\t0.455\t0.632\t              0.543\t0.529\t\t\t7.8\n",
      "2/2\t\t0.356\t0.866\t0.944\t0.905\t0.967\t\t\t0.586\t0.770\t0.948\t              0.859\t0.885\t\t\t7.5\n",
      "\n",
      "EPOCH\t\tL_tr\tSens_tr\tSpec_tr\tAb_tr\tAUROC_tr\t\tL_va\tSens_va          \tSpec_va\tAb_va\tAUROC_va\t\tTime (s)\n",
      "\n",
      "1/16\t\t0.565\t0.827\t0.902\t0.865\t0.933\t\t\t0.718\t0.720\t0.864\t              0.792\t0.829\t\t\t35.8\n",
      "2/16\t\t0.202\t0.903\t0.970\t0.937\t0.984\t\t\t0.525\t0.760\t0.980\t              0.870\t0.843\t\t\t35.3\n",
      "3/16\t\t0.176\t0.909\t0.971\t0.940\t0.986\t\t\t0.501\t0.830\t0.940\t              0.885\t0.892\t\t\t35.2\n",
      "4/16\t\t0.174\t0.907\t0.973\t0.940\t0.985\t\t\t0.415\t0.900\t0.928\t              0.914\t0.944\t\t\t36.5\n",
      "5/16\t\t0.191\t0.905\t0.952\t0.929\t0.982\t\t\t0.393\t0.820\t0.952\t              0.886\t0.933\t\t\t36.3\n",
      "6/16\t\t0.249\t0.876\t0.938\t0.907\t0.973\t\t\t0.357\t0.865\t0.948\t              0.906\t0.946\t\t\t33.7\n",
      "7/16\t\t0.146\t0.920\t0.979\t0.949\t0.988\t\t\t0.423\t0.880\t0.964\t              0.922\t0.927\t\t\t35.0\n",
      "8/16\t\t0.151\t0.911\t0.981\t0.946\t0.987\t\t\t0.374\t0.910\t0.952\t              0.931\t0.957\t\t\t34.9\n",
      "9/16\t\t0.143\t0.915\t0.986\t0.950\t0.988\t\t\t0.390\t0.875\t0.960\t              0.917\t0.941\t\t\t36.0\n",
      "10/16\t\t0.138\t0.918\t0.986\t0.952\t0.989\t\t\t0.405\t0.860\t0.968\t              0.914\t0.937\t\t\t35.7\n",
      "11/16\t\t0.138\t0.919\t0.984\t0.951\t0.989\t\t\t0.375\t0.895\t0.968\t              0.931\t0.953\t\t\t34.4\n",
      "12/16\t\t0.145\t0.918\t0.985\t0.952\t0.988\t\t\t0.469\t0.870\t0.980\t              0.925\t0.917\t\t\t33.6\n",
      "13/16\t\t0.136\t0.919\t0.988\t0.953\t0.989\t\t\t0.402\t0.890\t0.976\t              0.933\t0.933\t\t\t34.2\n",
      "14/16\t\t0.144\t0.917\t0.983\t0.950\t0.988\t\t\t0.352\t0.925\t0.956\t              0.941\t0.963\t\t\t35.0\n",
      "15/16\t\t0.134\t0.914\t0.993\t0.954\t0.989\t\t\t0.404\t0.860\t0.988\t              0.924\t0.933\t\t\t34.9\n",
      "16/16\t\t0.167\t0.916\t0.969\t0.942\t0.986\t\t\t0.481\t0.825\t0.976\t              0.900\t0.919\t\t\t35.3\n",
      "[FinalEpsTunnelRemover] output: removing EpsTunnel with scaling factor tensor([[0.0001920621289173]])\n",
      "[FinalEpsTunnelRemover] output: outputs will need to be scaled *externally* to maintain program semantics.\n"
     ]
    },
    {
     "name": "stderr",
     "output_type": "stream",
     "text": [
      "/home/zanghieri/miniconda3/envs/quantlib/lib/python3.8/site-packages/torch/fx/graph.py:606: UserWarning: Attempted to insert a call_module Node with no underlying reference in the owning GraphModule! Call GraphModule.add_submodule to add the necessary submodule\n",
      "  warnings.warn(\"Attempted to insert a call_module Node with \"\n"
     ]
    },
    {
     "name": "stdout",
     "output_type": "stream",
     "text": [
      "\n",
      "------------------------------------------------------------------\n",
      "INTERMEDIATE VALIDATION: INTEGER\n",
      "\n",
      "TRAINING SET\n",
      "{'pos_weight': 1.0, 'eps_clip_soft': 1e-07, 'balanced_bce': 0.13957871587863782, 'auroc': 0.9856151420497055, 'sensitivity': 0.8997699386503067, 'specificity': 0.980709534368071, 'balanced_accuracy': 0.9402397365091888, 'threshold_maxba': 0.39977482, 'sensitivity_maxba': 0.9155674846625766, 'specificity_maxba': 0.9691241685144124, 'balanced_accuracy_maxba': 0.9423458265884945, 'recall': 0.8997699386503067, 'precision': 0.9711944375465608, 'f1_score': 0.9341188646948768}\n",
      "VALIDATION SET\n",
      "{'pos_weight': 1.0, 'eps_clip_soft': 1e-07, 'balanced_bce': 0.3792974302338229, 'auroc': 0.91876, 'sensitivity': 0.635, 'specificity': 0.996, 'balanced_accuracy': 0.8155, 'threshold_maxba': 0.22585143, 'sensitivity_maxba': 0.825, 'specificity_maxba': 0.976, 'balanced_accuracy_maxba': 0.9005, 'recall': 0.635, 'precision': 0.9921875, 'f1_score': 0.7743902439024389}\n",
      "------------------------------------------------------------------\n",
      "------------------------------------------------------------------\n",
      "------------------------------------------------------------------\n"
     ]
    },
    {
     "data": {
      "image/png": "[encoded data removed]",
      "text/plain": [
       "<Figure size 432x288 with 1 Axes>"
      ]
     },
     "metadata": {
      "needs_background": "light"
     },
     "output_type": "display_data"
    },
    {
     "data": {
      "image/png": "[encoded data removed]",
      "text/plain": [
       "<Figure size 432x288 with 1 Axes>"
      ]
     },
     "metadata": {
      "needs_background": "light"
     },
     "output_type": "display_data"
    },
    {
     "name": "stderr",
     "output_type": "stream",
     "text": [
      "/home/zanghieri/miniconda3/envs/quantlib/lib/python3.8/site-packages/quantlib/editing/graphs/nn/requant.py:71: TracerWarning: Converting a tensor to a Python float might cause the trace to be incorrect. We can't record the data flow of Python values, so this value will be treated as a constant in the future. This means that the trace might not generalize to other inputs!\n",
      "  lo = float(self.zero)\n",
      "/home/zanghieri/miniconda3/envs/quantlib/lib/python3.8/site-packages/quantlib/editing/graphs/nn/requant.py:72: TracerWarning: Converting a tensor to a Python float might cause the trace to be incorrect. We can't record the data flow of Python values, so this value will be treated as a constant in the future. This means that the trace might not generalize to other inputs!\n",
      "  hi = float(self.zero + self.n_levels - 1)\n"
     ]
    },
    {
     "name": "stdout",
     "output_type": "stream",
     "text": [
      "\n",
      "\n",
      "------------------------------------------------------------------\n",
      "REPETITION 3/30\n",
      "------------------------------------------------------------------\n",
      "\n",
      "\n",
      "\n",
      "--------------------------------\n",
      "AUGMENTATION REPORT\n",
      "\n",
      "SETTINGS\n",
      "Original examples:\t3885\n",
      "Augmentation factor:\t8\n",
      "Rescale?\t\tTrue\n",
      "Shift?\t\t\tTrue\n",
      "\n",
      "OUTCOME\n",
      "New examples:\t\t31080\n",
      "Total output examples:\t31080\n",
      "Time for replicas (s):\t0.2\n",
      "Time for rescale (s):\t5.2\n",
      "Time for shift (s):\t0.4\n",
      "Time total (s):\t\t5.8\n",
      "--------------------------------\n",
      "\n",
      "\n",
      "\n",
      "EPOCH\t\tL_tr\tSens_tr\tSpec_tr\tAb_tr\tAUROC_tr\t\tL_va\tSens_va          \tSpec_va\tAb_va\tAUROC_va\t\tTime (s)\n",
      "\n",
      "1/2\t\t0.816\t0.875\t0.134\t0.505\t0.497\t\t\t0.816\t0.365\t0.708\t              0.536\t0.518\t\t\t7.9\n",
      "2/2\t\t0.806\t0.638\t0.377\t0.508\t0.504\t\t\t0.810\t0.280\t0.784\t              0.532\t0.518\t\t\t7.3\n",
      "\n",
      "EPOCH\t\tL_tr\tSens_tr\tSpec_tr\tAb_tr\tAUROC_tr\t\tL_va\tSens_va          \tSpec_va\tAb_va\tAUROC_va\t\tTime (s)\n",
      "\n",
      "1/16\t\t0.807\t0.634\t0.378\t0.506\t0.505\t\t\t0.811\t0.185\t0.872\t              0.528\t0.506\t\t\t33.3\n",
      "2/16\t\t0.805\t0.648\t0.369\t0.508\t0.509\t\t\t0.812\t0.940\t0.104\t              0.522\t0.492\t\t\t33.4\n",
      "3/16\t\t0.804\t0.482\t0.540\t0.511\t0.514\t\t\t0.813\t0.880\t0.168\t              0.524\t0.497\t\t\t33.7\n",
      "4/16\t\t0.804\t0.450\t0.582\t0.516\t0.519\t\t\t0.814\t0.855\t0.192\t              0.523\t0.488\t\t\t33.5\n",
      "5/16\t\t0.804\t0.417\t0.620\t0.519\t0.523\t\t\t0.814\t0.165\t0.868\t              0.516\t0.485\t\t\t33.1\n",
      "6/16\t\t0.452\t0.954\t0.799\t0.877\t0.952\t\t\t0.669\t0.635\t0.916\t              0.776\t0.799\t\t\t34.7\n",
      "7/16\t\t0.305\t0.902\t0.945\t0.923\t0.981\t\t\t0.591\t0.805\t0.912\t              0.859\t0.880\t\t\t34.3\n",
      "8/16\t\t0.252\t0.912\t0.959\t0.936\t0.985\t\t\t0.544\t0.795\t0.936\t              0.865\t0.884\t\t\t35.0\n",
      "9/16\t\t0.224\t0.931\t0.945\t0.938\t0.986\t\t\t0.486\t0.835\t0.936\t              0.885\t0.903\t\t\t33.6\n",
      "10/16\t\t0.203\t0.927\t0.957\t0.942\t0.987\t\t\t0.448\t0.795\t0.976\t              0.885\t0.902\t\t\t32.2\n",
      "11/16\t\t0.181\t0.931\t0.961\t0.946\t0.988\t\t\t0.417\t0.815\t0.972\t              0.893\t0.899\t\t\t33.9\n",
      "12/16\t\t0.167\t0.925\t0.972\t0.949\t0.989\t\t\t0.403\t0.800\t0.964\t              0.882\t0.898\t\t\t34.0\n",
      "13/16\t\t0.174\t0.920\t0.976\t0.948\t0.987\t\t\t0.437\t0.750\t0.984\t              0.867\t0.869\t\t\t33.2\n",
      "14/16\t\t0.154\t0.944\t0.959\t0.951\t0.989\t\t\t0.346\t0.855\t0.960\t              0.907\t0.923\t\t\t35.2\n",
      "15/16\t\t0.139\t0.932\t0.983\t0.957\t0.990\t\t\t0.361\t0.840\t0.980\t              0.910\t0.919\t\t\t34.8\n",
      "16/16\t\t0.138\t0.942\t0.972\t0.957\t0.990\t\t\t0.331\t0.865\t0.956\t              0.910\t0.927\t\t\t31.9\n",
      "[FinalEpsTunnelRemover] output: removing EpsTunnel with scaling factor tensor([[9.9652010248973966e-05]])\n",
      "[FinalEpsTunnelRemover] output: outputs will need to be scaled *externally* to maintain program semantics.\n"
     ]
    },
    {
     "name": "stderr",
     "output_type": "stream",
     "text": [
      "/home/zanghieri/miniconda3/envs/quantlib/lib/python3.8/site-packages/torch/fx/graph.py:606: UserWarning: Attempted to insert a call_module Node with no underlying reference in the owning GraphModule! Call GraphModule.add_submodule to add the necessary submodule\n",
      "  warnings.warn(\"Attempted to insert a call_module Node with \"\n"
     ]
    },
    {
     "name": "stdout",
     "output_type": "stream",
     "text": [
      "\n",
      "------------------------------------------------------------------\n",
      "INTERMEDIATE VALIDATION: INTEGER\n",
      "\n",
      "TRAINING SET\n",
      "{'pos_weight': 1.0, 'eps_clip_soft': 1e-07, 'balanced_bce': 0.1186468521769529, 'auroc': 0.9900791824235169, 'sensitivity': 0.9446319018404908, 'specificity': 0.9682372505543237, 'balanced_accuracy': 0.9564345761974073, 'threshold_maxba': 0.5360116, 'sensitivity_maxba': 0.9424846625766872, 'specificity_maxba': 0.9723392461197339, 'balanced_accuracy_maxba': 0.9574119543482105, 'recall': 0.9446319018404908, 'precision': 0.9555503839888294, 'f1_score': 0.950059774015657}\n",
      "VALIDATION SET\n",
      "{'pos_weight': 1.0, 'eps_clip_soft': 1e-07, 'balanced_bce': 0.2793993697687983, 'auroc': 0.9265199999999999, 'sensitivity': 0.83, 'specificity': 0.972, 'balanced_accuracy': 0.901, 'threshold_maxba': 0.40620548, 'sensitivity_maxba': 0.865, 'specificity_maxba': 0.956, 'balanced_accuracy_maxba': 0.9105, 'recall': 0.83, 'precision': 0.9595375722543352, 'f1_score': 0.8900804289544236}\n",
      "------------------------------------------------------------------\n",
      "------------------------------------------------------------------\n",
      "------------------------------------------------------------------\n"
     ]
    },
    {
     "data": {
      "image/png": "[encoded data removed]",
      "text/plain": [
       "<Figure size 432x288 with 1 Axes>"
      ]
     },
     "metadata": {
      "needs_background": "light"
     },
     "output_type": "display_data"
    },
    {
     "data": {
      "image/png": "[encoded data removed]",
      "text/plain": [
       "<Figure size 432x288 with 1 Axes>"
      ]
     },
     "metadata": {
      "needs_background": "light"
     },
     "output_type": "display_data"
    },
    {
     "name": "stderr",
     "output_type": "stream",
     "text": [
      "/home/zanghieri/miniconda3/envs/quantlib/lib/python3.8/site-packages/quantlib/editing/graphs/nn/requant.py:71: TracerWarning: Converting a tensor to a Python float might cause the trace to be incorrect. We can't record the data flow of Python values, so this value will be treated as a constant in the future. This means that the trace might not generalize to other inputs!\n",
      "  lo = float(self.zero)\n",
      "/home/zanghieri/miniconda3/envs/quantlib/lib/python3.8/site-packages/quantlib/editing/graphs/nn/requant.py:72: TracerWarning: Converting a tensor to a Python float might cause the trace to be incorrect. We can't record the data flow of Python values, so this value will be treated as a constant in the future. This means that the trace might not generalize to other inputs!\n",
      "  hi = float(self.zero + self.n_levels - 1)\n"
     ]
    },
    {
     "name": "stdout",
     "output_type": "stream",
     "text": [
      "\n",
      "\n",
      "------------------------------------------------------------------\n",
      "REPETITION 4/30\n",
      "------------------------------------------------------------------\n",
      "\n",
      "\n",
      "\n",
      "--------------------------------\n",
      "AUGMENTATION REPORT\n",
      "\n",
      "SETTINGS\n",
      "Original examples:\t3885\n",
      "Augmentation factor:\t8\n",
      "Rescale?\t\tTrue\n",
      "Shift?\t\t\tTrue\n",
      "\n",
      "OUTCOME\n",
      "New examples:\t\t31080\n",
      "Total output examples:\t31080\n",
      "Time for replicas (s):\t0.2\n",
      "Time for rescale (s):\t5.2\n",
      "Time for shift (s):\t0.4\n",
      "Time total (s):\t\t5.8\n",
      "--------------------------------\n",
      "\n",
      "\n",
      "\n",
      "EPOCH\t\tL_tr\tSens_tr\tSpec_tr\tAb_tr\tAUROC_tr\t\tL_va\tSens_va          \tSpec_va\tAb_va\tAUROC_va\t\tTime (s)\n",
      "\n",
      "1/2\t\t0.819\t0.296\t0.741\t0.518\t0.516\t\t\t0.829\t0.560\t0.488\t              0.524\t0.492\t\t\t7.6\n",
      "2/2\t\t0.805\t0.263\t0.765\t0.514\t0.514\t\t\t0.812\t0.835\t0.244\t              0.539\t0.518\t\t\t7.3\n",
      "\n",
      "EPOCH\t\tL_tr\tSens_tr\tSpec_tr\tAb_tr\tAUROC_tr\t\tL_va\tSens_va          \tSpec_va\tAb_va\tAUROC_va\t\tTime (s)\n",
      "\n",
      "1/16\t\t0.807\t0.410\t0.643\t0.526\t0.526\t\t\t0.822\t0.970\t0.056\t              0.513\t0.451\t\t\t32.8\n",
      "2/16\t\t0.804\t0.431\t0.628\t0.529\t0.530\t\t\t0.816\t0.960\t0.068\t              0.514\t0.469\t\t\t34.9\n",
      "3/16\t\t0.804\t0.475\t0.574\t0.525\t0.527\t\t\t0.816\t0.935\t0.104\t              0.520\t0.440\t\t\t31.8\n",
      "4/16\t\t0.775\t0.501\t0.749\t0.625\t0.663\t\t\t0.827\t0.790\t0.280\t              0.535\t0.488\t\t\t33.1\n",
      "5/16\t\t0.667\t0.672\t0.810\t0.741\t0.780\t\t\t0.983\t0.465\t0.612\t              0.538\t0.515\t\t\t34.6\n",
      "6/16\t\t0.567\t0.740\t0.838\t0.789\t0.844\t\t\t1.013\t0.485\t0.740\t              0.613\t0.590\t\t\t33.0\n",
      "7/16\t\t0.505\t0.788\t0.864\t0.826\t0.881\t\t\t1.004\t0.555\t0.736\t              0.645\t0.664\t\t\t32.9\n",
      "8/16\t\t0.455\t0.800\t0.888\t0.844\t0.900\t\t\t0.930\t0.555\t0.816\t              0.685\t0.707\t\t\t34.7\n",
      "9/16\t\t0.415\t0.834\t0.892\t0.863\t0.916\t\t\t0.895\t0.590\t0.800\t              0.695\t0.734\t\t\t35.9\n",
      "10/16\t\t0.386\t0.862\t0.879\t0.870\t0.927\t\t\t0.868\t0.560\t0.840\t              0.700\t0.747\t\t\t33.3\n",
      "11/16\t\t0.367\t0.845\t0.916\t0.881\t0.933\t\t\t0.882\t0.570\t0.844\t              0.707\t0.745\t\t\t35.6\n",
      "12/16\t\t0.342\t0.856\t0.923\t0.889\t0.942\t\t\t0.851\t0.610\t0.808\t              0.709\t0.764\t\t\t34.4\n",
      "13/16\t\t0.324\t0.867\t0.922\t0.894\t0.948\t\t\t0.815\t0.565\t0.868\t              0.716\t0.775\t\t\t33.2\n",
      "14/16\t\t0.316\t0.902\t0.891\t0.897\t0.951\t\t\t0.750\t0.645\t0.836\t              0.740\t0.806\t\t\t35.2\n",
      "15/16\t\t0.297\t0.883\t0.924\t0.903\t0.956\t\t\t0.759\t0.640\t0.828\t              0.734\t0.792\t\t\t34.3\n",
      "16/16\t\t0.291\t0.880\t0.933\t0.906\t0.958\t\t\t0.703\t0.640\t0.876\t              0.758\t0.821\t\t\t38.2\n",
      "[FinalEpsTunnelRemover] output: removing EpsTunnel with scaling factor tensor([[6.8414563429541886e-05]])\n",
      "[FinalEpsTunnelRemover] output: outputs will need to be scaled *externally* to maintain program semantics.\n"
     ]
    },
    {
     "name": "stderr",
     "output_type": "stream",
     "text": [
      "/home/zanghieri/miniconda3/envs/quantlib/lib/python3.8/site-packages/torch/fx/graph.py:606: UserWarning: Attempted to insert a call_module Node with no underlying reference in the owning GraphModule! Call GraphModule.add_submodule to add the necessary submodule\n",
      "  warnings.warn(\"Attempted to insert a call_module Node with \"\n"
     ]
    },
    {
     "name": "stdout",
     "output_type": "stream",
     "text": [
      "\n",
      "------------------------------------------------------------------\n",
      "INTERMEDIATE VALIDATION: INTEGER\n",
      "\n",
      "TRAINING SET\n",
      "{'pos_weight': 1.0, 'eps_clip_soft': 1e-07, 'balanced_bce': 0.2448456277301897, 'auroc': 0.9584070270734428, 'sensitivity': 0.8724693251533743, 'specificity': 0.9387472283813747, 'balanced_accuracy': 0.9056082767673745, 'threshold_maxba': 0.45858458, 'sensitivity_maxba': 0.879601226993865, 'specificity_maxba': 0.9330931263858093, 'balanced_accuracy_maxba': 0.9063471766898372, 'recall': 0.8724693251533743, 'precision': 0.9114725204294184, 'f1_score': 0.8915445498001724}\n",
      "VALIDATION SET\n",
      "{'pos_weight': 1.0, 'eps_clip_soft': 1e-07, 'balanced_bce': 0.6403264176514414, 'auroc': 0.8209099999999999, 'sensitivity': 0.82, 'specificity': 0.616, 'balanced_accuracy': 0.718, 'threshold_maxba': 0.84014755, 'sensitivity_maxba': 0.64, 'specificity_maxba': 0.876, 'balanced_accuracy_maxba': 0.758, 'recall': 0.82, 'precision': 0.6307692307692307, 'f1_score': 0.7130434782608696}\n",
      "------------------------------------------------------------------\n",
      "------------------------------------------------------------------\n",
      "------------------------------------------------------------------\n"
     ]
    },
    {
     "data": {
      "image/png": "[encoded data removed]",
      "text/plain": [
       "<Figure size 432x288 with 1 Axes>"
      ]
     },
     "metadata": {
      "needs_background": "light"
     },
     "output_type": "display_data"
    },
    {
     "data": {
      "image/png": "[encoded data removed]",
      "text/plain": [
       "<Figure size 432x288 with 1 Axes>"
      ]
     },
     "metadata": {
      "needs_background": "light"
     },
     "output_type": "display_data"
    },
    {
     "name": "stderr",
     "output_type": "stream",
     "text": [
      "/home/zanghieri/miniconda3/envs/quantlib/lib/python3.8/site-packages/quantlib/editing/graphs/nn/requant.py:71: TracerWarning: Converting a tensor to a Python float might cause the trace to be incorrect. We can't record the data flow of Python values, so this value will be treated as a constant in the future. This means that the trace might not generalize to other inputs!\n",
      "  lo = float(self.zero)\n",
      "/home/zanghieri/miniconda3/envs/quantlib/lib/python3.8/site-packages/quantlib/editing/graphs/nn/requant.py:72: TracerWarning: Converting a tensor to a Python float might cause the trace to be incorrect. We can't record the data flow of Python values, so this value will be treated as a constant in the future. This means that the trace might not generalize to other inputs!\n",
      "  hi = float(self.zero + self.n_levels - 1)\n"
     ]
    },
    {
     "name": "stdout",
     "output_type": "stream",
     "text": [
      "\n",
      "\n",
      "------------------------------------------------------------------\n",
      "REPETITION 5/30\n",
      "------------------------------------------------------------------\n",
      "\n",
      "\n",
      "\n",
      "--------------------------------\n",
      "AUGMENTATION REPORT\n",
      "\n",
      "SETTINGS\n",
      "Original examples:\t3885\n",
      "Augmentation factor:\t8\n",
      "Rescale?\t\tTrue\n",
      "Shift?\t\t\tTrue\n",
      "\n",
      "OUTCOME\n",
      "New examples:\t\t31080\n",
      "Total output examples:\t31080\n",
      "Time for replicas (s):\t0.2\n",
      "Time for rescale (s):\t5.3\n",
      "Time for shift (s):\t0.4\n",
      "Time total (s):\t\t5.8\n",
      "--------------------------------\n",
      "\n",
      "\n",
      "\n",
      "EPOCH\t\tL_tr\tSens_tr\tSpec_tr\tAb_tr\tAUROC_tr\t\tL_va\tSens_va          \tSpec_va\tAb_va\tAUROC_va\t\tTime (s)\n",
      "\n",
      "1/2\t\t0.805\t0.431\t0.676\t0.553\t0.549\t\t\t0.826\t0.995\t0.012\t              0.504\t0.404\t\t\t7.7\n",
      "2/2\t\t0.697\t0.733\t0.767\t0.750\t0.791\t\t\t0.974\t0.335\t0.708\t              0.521\t0.497\t\t\t7.3\n",
      "\n",
      "EPOCH\t\tL_tr\tSens_tr\tSpec_tr\tAb_tr\tAUROC_tr\t\tL_va\tSens_va          \tSpec_va\tAb_va\tAUROC_va\t\tTime (s)\n",
      "\n",
      "1/16\t\t0.760\t0.654\t0.689\t0.671\t0.721\t\t\t0.848\t0.000\t1.000\t              0.500\t0.431\t\t\t32.6\n",
      "2/16\t\t0.490\t0.792\t0.871\t0.832\t0.896\t\t\t1.043\t0.635\t0.620\t              0.627\t0.621\t\t\t34.7\n",
      "3/16\t\t0.397\t0.831\t0.894\t0.863\t0.931\t\t\t0.944\t0.565\t0.732\t              0.648\t0.689\t\t\t35.0\n",
      "4/16\t\t0.343\t0.831\t0.925\t0.878\t0.950\t\t\t0.812\t0.680\t0.712\t              0.696\t0.729\t\t\t35.8\n",
      "5/16\t\t0.293\t0.870\t0.923\t0.896\t0.963\t\t\t0.798\t0.630\t0.792\t              0.711\t0.753\t\t\t33.9\n",
      "6/16\t\t0.255\t0.894\t0.925\t0.909\t0.971\t\t\t0.767\t0.630\t0.812\t              0.721\t0.769\t\t\t35.4\n",
      "7/16\t\t0.227\t0.899\t0.939\t0.919\t0.977\t\t\t0.700\t0.665\t0.808\t              0.737\t0.786\t\t\t35.6\n",
      "8/16\t\t0.209\t0.908\t0.944\t0.926\t0.980\t\t\t0.657\t0.720\t0.800\t              0.760\t0.819\t\t\t35.2\n",
      "9/16\t\t0.188\t0.914\t0.956\t0.935\t0.984\t\t\t0.631\t0.740\t0.844\t              0.792\t0.841\t\t\t33.2\n",
      "10/16\t\t0.169\t0.928\t0.957\t0.943\t0.986\t\t\t0.604\t0.795\t0.816\t              0.806\t0.854\t\t\t33.5\n",
      "11/16\t\t0.155\t0.938\t0.958\t0.948\t0.988\t\t\t0.581\t0.760\t0.868\t              0.814\t0.864\t\t\t35.3\n",
      "12/16\t\t0.142\t0.945\t0.964\t0.955\t0.990\t\t\t0.531\t0.840\t0.848\t              0.844\t0.886\t\t\t36.5\n",
      "13/16\t\t0.127\t0.941\t0.978\t0.959\t0.992\t\t\t0.529\t0.860\t0.820\t              0.840\t0.895\t\t\t33.0\n",
      "14/16\t\t0.118\t0.950\t0.976\t0.963\t0.993\t\t\t0.488\t0.890\t0.848\t              0.869\t0.911\t\t\t32.7\n",
      "15/16\t\t0.109\t0.955\t0.977\t0.966\t0.994\t\t\t0.462\t0.855\t0.884\t              0.869\t0.922\t\t\t34.0\n",
      "16/16\t\t0.102\t0.955\t0.985\t0.970\t0.995\t\t\t0.500\t0.890\t0.864\t              0.877\t0.916\t\t\t35.2\n",
      "[FinalEpsTunnelRemover] output: removing EpsTunnel with scaling factor tensor([[0.0003370694757905]])\n",
      "[FinalEpsTunnelRemover] output: outputs will need to be scaled *externally* to maintain program semantics.\n"
     ]
    },
    {
     "name": "stderr",
     "output_type": "stream",
     "text": [
      "/home/zanghieri/miniconda3/envs/quantlib/lib/python3.8/site-packages/torch/fx/graph.py:606: UserWarning: Attempted to insert a call_module Node with no underlying reference in the owning GraphModule! Call GraphModule.add_submodule to add the necessary submodule\n",
      "  warnings.warn(\"Attempted to insert a call_module Node with \"\n"
     ]
    },
    {
     "name": "stdout",
     "output_type": "stream",
     "text": [
      "\n",
      "------------------------------------------------------------------\n",
      "INTERMEDIATE VALIDATION: INTEGER\n",
      "\n",
      "TRAINING SET\n",
      "{'pos_weight': 1.0, 'eps_clip_soft': 1e-07, 'balanced_bce': 0.08890488230765509, 'auroc': 0.9947581358909309, 'sensitivity': 0.9624233128834356, 'specificity': 0.9738913525498891, 'balanced_accuracy': 0.9681573327166624, 'threshold_maxba': 0.65629715, 'sensitivity_maxba': 0.9545245398773006, 'specificity_maxba': 0.9847560975609756, 'balanced_accuracy_maxba': 0.969640318719138, 'recall': 0.9624233128834356, 'precision': 0.9638276630059135, 'f1_score': 0.9631249760178044}\n",
      "VALIDATION SET\n",
      "{'pos_weight': 1.0, 'eps_clip_soft': 1e-07, 'balanced_bce': 0.4678438053942389, 'auroc': 0.9161800000000001, 'sensitivity': 0.92, 'specificity': 0.8, 'balanced_accuracy': 0.8600000000000001, 'threshold_maxba': 0.6823242, 'sensitivity_maxba': 0.885, 'specificity_maxba': 0.868, 'balanced_accuracy_maxba': 0.8765000000000001, 'recall': 0.92, 'precision': 0.7863247863247863, 'f1_score': 0.847926267281106}\n",
      "------------------------------------------------------------------\n",
      "------------------------------------------------------------------\n",
      "------------------------------------------------------------------\n"
     ]
    },
    {
     "data": {
      "image/png": "[encoded data removed]",
      "text/plain": [
       "<Figure size 432x288 with 1 Axes>"
      ]
     },
     "metadata": {
      "needs_background": "light"
     },
     "output_type": "display_data"
    },
    {
     "data": {
      "image/png": "[encoded data removed]",
      "text/plain": [
       "<Figure size 432x288 with 1 Axes>"
      ]
     },
     "metadata": {
      "needs_background": "light"
     },
     "output_type": "display_data"
    },
    {
     "name": "stderr",
     "output_type": "stream",
     "text": [
      "/home/zanghieri/miniconda3/envs/quantlib/lib/python3.8/site-packages/quantlib/editing/graphs/nn/requant.py:71: TracerWarning: Converting a tensor to a Python float might cause the trace to be incorrect. We can't record the data flow of Python values, so this value will be treated as a constant in the future. This means that the trace might not generalize to other inputs!\n",
      "  lo = float(self.zero)\n",
      "/home/zanghieri/miniconda3/envs/quantlib/lib/python3.8/site-packages/quantlib/editing/graphs/nn/requant.py:72: TracerWarning: Converting a tensor to a Python float might cause the trace to be incorrect. We can't record the data flow of Python values, so this value will be treated as a constant in the future. This means that the trace might not generalize to other inputs!\n",
      "  hi = float(self.zero + self.n_levels - 1)\n"
     ]
    },
    {
     "name": "stdout",
     "output_type": "stream",
     "text": [
      "\n",
      "\n",
      "------------------------------------------------------------------\n",
      "REPETITION 6/30\n",
      "------------------------------------------------------------------\n",
      "\n",
      "\n",
      "\n",
      "--------------------------------\n",
      "AUGMENTATION REPORT\n",
      "\n",
      "SETTINGS\n",
      "Original examples:\t3885\n",
      "Augmentation factor:\t8\n",
      "Rescale?\t\tTrue\n",
      "Shift?\t\t\tTrue\n",
      "\n",
      "OUTCOME\n",
      "New examples:\t\t31080\n",
      "Total output examples:\t31080\n",
      "Time for replicas (s):\t0.2\n",
      "Time for rescale (s):\t5.7\n",
      "Time for shift (s):\t0.5\n",
      "Time total (s):\t\t6.4\n",
      "--------------------------------\n",
      "\n",
      "\n",
      "\n",
      "EPOCH\t\tL_tr\tSens_tr\tSpec_tr\tAb_tr\tAUROC_tr\t\tL_va\tSens_va          \tSpec_va\tAb_va\tAUROC_va\t\tTime (s)\n",
      "\n",
      "1/2\t\t0.764\t0.739\t0.624\t0.681\t0.709\t\t\t0.811\t0.815\t0.308\t              0.561\t0.564\t\t\t7.6\n",
      "2/2\t\t0.564\t0.882\t0.801\t0.842\t0.877\t\t\t0.826\t0.860\t0.428\t              0.644\t0.693\t\t\t7.4\n",
      "\n",
      "EPOCH\t\tL_tr\tSens_tr\tSpec_tr\tAb_tr\tAUROC_tr\t\tL_va\tSens_va          \tSpec_va\tAb_va\tAUROC_va\t\tTime (s)\n",
      "\n",
      "1/16\t\t0.585\t0.904\t0.794\t0.849\t0.898\t\t\t0.818\t0.650\t0.560\t              0.605\t0.623\t\t\t34.2\n",
      "2/16\t\t0.385\t0.882\t0.876\t0.879\t0.938\t\t\t0.769\t0.550\t0.820\t              0.685\t0.731\t\t\t33.7\n"
     ]
    }
   ],
   "source": [
    "# For each repetition:\n",
    "# - training and validation in floating-point\n",
    "# - quantization:\n",
    "#   - Post-Training Qtantization (PTQ)\n",
    "#   - Quantization-Aware Tuning (QAT)\n",
    "#   - validation\n",
    "\n",
    "for idx_rep in range(NUM_REPETITIONS):\n",
    "\n",
    "    print(\n",
    "        f\"\\n\"\n",
    "        f\"\\n------------------------------------------------------------------\"\n",
    "        f\"\\nREPETITION {idx_rep + 1}/{NUM_REPETITIONS}\"\n",
    "        f\"\\n------------------------------------------------------------------\"\n",
    "        f\"\\n\"\n",
    "    )\n",
    "\n",
    "    # ----------------------------------------------------------------------- #\n",
    "\n",
    "    # Augmentation\n",
    "\n",
    "    xtrain_augm, ytrain_augm = augm.augment_us_windows(\n",
    "        xtrain_orig,\n",
    "        ytrain_orig,\n",
    "        augm_factor=16,\n",
    "        rescale=True,\n",
    "        shift=True,\n",
    "        verbose=True,\n",
    "    )\n",
    "\n",
    "    # ----------------------------------------------------------------------- #\n",
    "\n",
    "    # Trainings & Validations\n",
    "\n",
    "    tiniernet = mdl.TinierNet()\n",
    "    \n",
    "    # floating-point training and validation\n",
    "    tiniernet, history_fp, ysoft_train_fp, ysoft_valid_fp = learn.do_training(\n",
    "        xtrain_augm, ytrain_augm,\n",
    "        xvalid, yvalid,\n",
    "        tiniernet,\n",
    "        num_epochs=2,\n",
    "    )\n",
    "\n",
    "    # Quantization, QAT and Validation\n",
    "    input_scale = 255.0\n",
    "    model_tq, output_scale, history_q,\\\n",
    "        metrics_train_q, metrics_valid_q, \\\n",
    "        ysoft_train_q, ysoft_valid_q = quant.quantlib_flow(\n",
    "            xtrain_augm,\n",
    "            ytrain_augm,\n",
    "            xvalid,\n",
    "            yvalid,\n",
    "            model=tiniernet,\n",
    "            do_qat=True,\n",
    "            num_epochs_qat=16,\n",
    "            input_scale=input_scale,\n",
    "            export=True,\n",
    "            onnx_filename=MODEL_FILE_FULLPATH,\n",
    "        )\n",
    "\n",
    "    del xtrain_augm, ytrain_augm\n",
    "\n",
    "    # ----------------------------------------------------------------------- #\n",
    "\n",
    "    # Store and re-save results after each repetition\n",
    "\n",
    "    # store into general dictionary\n",
    "    results['repetition'][idx_rep] = {\n",
    "\n",
    "        # floating-point\n",
    "        'history_fp': history_fp,\n",
    "        'ysoft_train_fp': ysoft_train_fp,\n",
    "        'ysoft_valid_fp': ysoft_valid_fp,\n",
    "\n",
    "        # quantized\n",
    "        'output_scale': output_scale,\n",
    "        'history_q': history_q,\n",
    "        'ysoft_train_q': ysoft_train_q,\n",
    "        'ysoft_valid_q': ysoft_valid_q,\n",
    "        'metrics_train_q': metrics_train_q,\n",
    "        'metrics_valid_q': metrics_valid_q,\n",
    "    }\n",
    "\n",
    "    # save to file\n",
    "    results_outer_dict = {'results': results}\n",
    "    Path(RESULTS_DIR_PATH).mkdir(parents=True, exist_ok=True)\n",
    "    with open(RESULTS_FILE_FULLPATH, 'wb') as f:\n",
    "        pickle.dump(results_outer_dict, f)\n",
    "\n",
    "    # ----------------------------------------------------------------------- #\n"
   ]
  },
  {
   "cell_type": "code",
   "execution_count": null,
   "id": "939477a1",
   "metadata": {},
   "outputs": [],
   "source": []
  }
 ],
 "metadata": {
  "interpreter": {
   "hash": "be2a574df76c2fd95f789d3ec0795cc4c51d5a50b22f707f740792f3b022ef60"
  },
  "kernelspec": {
   "display_name": "Python 3.8.5 ('base': conda)",
   "language": "python",
   "name": "python3"
  },
  "language_info": {
   "codemirror_mode": {
    "name": "ipython",
    "version": 3
   },
   "file_extension": ".py",
   "mimetype": "text/x-python",
   "name": "python",
   "nbconvert_exporter": "python",
   "pygments_lexer": "ipython3",
   "version": "3.8.2"
  }
 },
 "nbformat": 4,
 "nbformat_minor": 5
}
